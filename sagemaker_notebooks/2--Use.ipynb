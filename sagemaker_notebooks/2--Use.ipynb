{
 "cells": [
  {
   "cell_type": "code",
   "execution_count": 1,
   "metadata": {},
   "outputs": [],
   "source": [
    "import json\n",
    "\n",
    "import sagemaker as sage\n",
    "from sagemaker.predictor import RealTimePredictor\n",
    "from sagemaker.predictor import json_serializer\n",
    "from sagemaker.content_types import CONTENT_TYPE_JSON"
   ]
  },
  {
   "cell_type": "code",
   "execution_count": 2,
   "metadata": {},
   "outputs": [],
   "source": [
    "ENDPOINT_NAME = 'basic-2019-03-15-01-22-39-313'"
   ]
  },
  {
   "cell_type": "markdown",
   "metadata": {},
   "source": [
    "### Start session"
   ]
  },
  {
   "cell_type": "code",
   "execution_count": 3,
   "metadata": {},
   "outputs": [],
   "source": [
    "sess = sage.Session()"
   ]
  },
  {
   "cell_type": "markdown",
   "metadata": {},
   "source": [
    "### Get estimator"
   ]
  },
  {
   "cell_type": "code",
   "execution_count": 4,
   "metadata": {},
   "outputs": [],
   "source": [
    "predictor = RealTimePredictor(\n",
    "    endpoint=ENDPOINT_NAME,\n",
    "    sagemaker_session=sess,\n",
    "    serializer=json_serializer,\n",
    "    content_type=CONTENT_TYPE_JSON)"
   ]
  },
  {
   "cell_type": "markdown",
   "metadata": {},
   "source": [
    "### Inference"
   ]
  },
  {
   "cell_type": "code",
   "execution_count": 5,
   "metadata": {},
   "outputs": [
    {
     "name": "stdout",
     "output_type": "stream",
     "text": [
      "[3.5, 4.5] -> 0\n",
      "[6.7, 3.1] -> 2\n"
     ]
    }
   ],
   "source": [
    "data = [\n",
    "    [3.5, 4.5],\n",
    "    [6.7, 3.1]\n",
    "]\n",
    "\n",
    "predictions = json.loads(predictor.predict(data))['predictions']\n",
    "for x, y in zip(data, predictions):\n",
    "    print(f'{x} -> {y}')"
   ]
  }
 ],
 "metadata": {
  "kernelspec": {
   "display_name": "conda_python3",
   "language": "python",
   "name": "conda_python3"
  },
  "language_info": {
   "codemirror_mode": {
    "name": "ipython",
    "version": 3
   },
   "file_extension": ".py",
   "mimetype": "text/x-python",
   "name": "python",
   "nbconvert_exporter": "python",
   "pygments_lexer": "ipython3",
   "version": "3.6.5"
  }
 },
 "nbformat": 4,
 "nbformat_minor": 2
}
