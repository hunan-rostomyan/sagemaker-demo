{
 "cells": [
  {
   "cell_type": "code",
   "execution_count": 29,
   "metadata": {},
   "outputs": [],
   "source": [
    "import sagemaker as sage\n",
    "from sagemaker import get_execution_role\n",
    "from sagemaker.predictor import json_serializer\n",
    "from util import get_image\n",
    "from util import upload_data\n",
    "\n",
    "role = get_execution_role()\n",
    "sess = sage.Session()"
   ]
  },
  {
   "cell_type": "code",
   "execution_count": 12,
   "metadata": {},
   "outputs": [],
   "source": [
    "NAME = 'basic'"
   ]
  },
  {
   "cell_type": "code",
   "execution_count": 13,
   "metadata": {},
   "outputs": [],
   "source": [
    "image = get_image(NAME, sess=sess)"
   ]
  },
  {
   "cell_type": "markdown",
   "metadata": {},
   "source": [
    "### Create estimator"
   ]
  },
  {
   "cell_type": "code",
   "execution_count": 14,
   "metadata": {},
   "outputs": [],
   "source": [
    "tree = sage.estimator.Estimator(\n",
    "    image_name=image,\n",
    "    role=role,\n",
    "    train_instance_count=1,\n",
    "    train_instance_type='ml.c4.2xlarge',\n",
    "    output_path=\"s3://{}/output\".format(sess.default_bucket()),\n",
    "    sagemaker_session=sess)"
   ]
  },
  {
   "cell_type": "markdown",
   "metadata": {},
   "source": [
    "### Fit estimator"
   ]
  },
  {
   "cell_type": "code",
   "execution_count": 27,
   "metadata": {},
   "outputs": [],
   "source": [
    "!mkdir -p data\n",
    "input_s3 = upload_data('data', sess=sess, s3_prefix=NAME)"
   ]
  },
  {
   "cell_type": "code",
   "execution_count": 28,
   "metadata": {},
   "outputs": [
    {
     "name": "stderr",
     "output_type": "stream",
     "text": [
      "INFO:sagemaker:Creating training-job with name: basic-2019-03-15-01-22-39-313\n"
     ]
    },
    {
     "name": "stdout",
     "output_type": "stream",
     "text": [
      "2019-03-15 01:22:39 Starting - Starting the training job...\n",
      "2019-03-15 01:22:41 Starting - Launching requested ML instances......\n",
      "2019-03-15 01:23:46 Starting - Preparing the instances for training...\n",
      "2019-03-15 01:24:31 Downloading - Downloading input data\n",
      "2019-03-15 01:24:31 Training - Downloading the training image...\n",
      "2019-03-15 01:25:00 Uploading - Uploading generated training model\n",
      "2019-03-15 01:25:00 Completed - Training job completed\n",
      "..\n",
      "Billable seconds: 36\n"
     ]
    }
   ],
   "source": [
    "tree.fit(inputs=input_s3)"
   ]
  },
  {
   "cell_type": "markdown",
   "metadata": {},
   "source": [
    "### Deploy endpoint"
   ]
  },
  {
   "cell_type": "code",
   "execution_count": 30,
   "metadata": {},
   "outputs": [
    {
     "name": "stderr",
     "output_type": "stream",
     "text": [
      "INFO:sagemaker:Creating model with name: basic-2019-03-15-01-25-21-225\n",
      "INFO:sagemaker:Creating endpoint with name basic-2019-03-15-01-22-39-313\n"
     ]
    },
    {
     "name": "stdout",
     "output_type": "stream",
     "text": [
      "---------------------------------------------------------------!Endpoint basic-2019-03-15-01-22-39-313 deployed.\n"
     ]
    }
   ],
   "source": [
    "predictor = tree.deploy(1, 'ml.m4.xlarge', serializer=json_serializer)\n",
    "print(f'Endpoint {predictor.endpoint} deployed.')"
   ]
  }
 ],
 "metadata": {
  "kernelspec": {
   "display_name": "conda_python3",
   "language": "python",
   "name": "conda_python3"
  },
  "language_info": {
   "codemirror_mode": {
    "name": "ipython",
    "version": 3
   },
   "file_extension": ".py",
   "mimetype": "text/x-python",
   "name": "python",
   "nbconvert_exporter": "python",
   "pygments_lexer": "ipython3",
   "version": "3.6.5"
  }
 },
 "nbformat": 4,
 "nbformat_minor": 2
}
